{
 "cells": [
  {
   "cell_type": "code",
   "execution_count": 3,
   "id": "46614975",
   "metadata": {},
   "outputs": [],
   "source": [
    "import sqlite3"
   ]
  },
  {
   "cell_type": "code",
   "execution_count": 4,
   "id": "149da8dd",
   "metadata": {},
   "outputs": [],
   "source": [
    "con = sqlite3.connect('student.db')"
   ]
  },
  {
   "cell_type": "code",
   "execution_count": 5,
   "id": "7dd4e7f0",
   "metadata": {},
   "outputs": [],
   "source": [
    "cur=con.cursor()"
   ]
  },
  {
   "cell_type": "code",
   "execution_count": 6,
   "id": "99f68765",
   "metadata": {},
   "outputs": [],
   "source": [
    "q=\"create table stud(id int PRIMARY KEY,name text)\""
   ]
  },
  {
   "cell_type": "code",
   "execution_count": 7,
   "id": "db1831b1",
   "metadata": {},
   "outputs": [
    {
     "data": {
      "text/plain": [
       "<sqlite3.Cursor at 0x1b075d07bc0>"
      ]
     },
     "execution_count": 7,
     "metadata": {},
     "output_type": "execute_result"
    }
   ],
   "source": [
    "cur.execute(q)"
   ]
  },
  {
   "cell_type": "code",
   "execution_count": 8,
   "id": "14166765",
   "metadata": {},
   "outputs": [],
   "source": [
    "q=\"create table stud_details(id INTEGER PRIMARY KEY,city TEXT,mobileno int,FOREIGN KEY(id) REFERENCES stud(id))\""
   ]
  },
  {
   "cell_type": "code",
   "execution_count": 9,
   "id": "f745b1e8",
   "metadata": {},
   "outputs": [
    {
     "data": {
      "text/plain": [
       "<sqlite3.Cursor at 0x1b075d07bc0>"
      ]
     },
     "execution_count": 9,
     "metadata": {},
     "output_type": "execute_result"
    }
   ],
   "source": [
    "cur.execute(q)"
   ]
  },
  {
   "cell_type": "code",
   "execution_count": 10,
   "id": "90016ad3",
   "metadata": {},
   "outputs": [],
   "source": [
    "con.commit()"
   ]
  },
  {
   "cell_type": "code",
   "execution_count": 14,
   "id": "1dc85c01",
   "metadata": {},
   "outputs": [],
   "source": [
    "l=[]"
   ]
  },
  {
   "cell_type": "code",
   "execution_count": 15,
   "id": "1224d171",
   "metadata": {},
   "outputs": [],
   "source": [
    "a=[]"
   ]
  },
  {
   "cell_type": "code",
   "execution_count": 16,
   "id": "f5720bd3",
   "metadata": {},
   "outputs": [
    {
     "name": "stdout",
     "output_type": "stream",
     "text": [
      "Enter student id:1\n",
      "Enter student name:om\n",
      "Enter student city:surat\n",
      "Enter student mobile no:7485966352\n",
      "Enter student id:2\n",
      "Enter student name:sai\n",
      "Enter student city:bardoli\n",
      "Enter student mobile no:7889857474\n",
      "Enter student id:3\n",
      "Enter student name:ram\n",
      "Enter student city:mumbai\n",
      "Enter student mobile no:7485966352\n",
      "Enter student id:4\n",
      "Enter student name:sunil\n",
      "Enter student city:bharuch\n",
      "Enter student mobile no:7695857475\n",
      "Enter student id:5\n",
      "Enter student name:anil\n",
      "Enter student city:amreli\n",
      "Enter student mobile no:7652416398\n",
      "Enter student id:6\n",
      "Enter student name:ashok\n",
      "Enter student city:ahmadabad\n",
      "Enter student mobile no:8596744512\n",
      "Enter student id:7\n",
      "Enter student name:ajay\n",
      "Enter student city:bhuj\n",
      "Enter student mobile no:9475968574\n",
      "Enter student id:8\n",
      "Enter student name:sanket\n",
      "Enter student city:dwarka\n",
      "Enter student mobile no:9274856374\n",
      "Enter student id:9\n",
      "Enter student name:vijay\n",
      "Enter student city:bardoli\n",
      "Enter student mobile no:8265748521\n",
      "Enter student id:10\n",
      "Enter student name:rohit\n",
      "Enter student city:mumbai\n",
      "Enter student mobile no:7695857496\n"
     ]
    }
   ],
   "source": [
    "for i in range(1,11):\n",
    "    sid=int(input(\"Enter student id:\"))\n",
    "    sname=input(\"Enter student name:\")\n",
    "    scity=input(\"Enter student city:\")\n",
    "    smono=int(input(\"Enter student mobile no:\"))\n",
    "    t=(sid,sname)\n",
    "    l.append(t)\n",
    "    t=(sid,scity,smono)\n",
    "    a.append(t)"
   ]
  },
  {
   "cell_type": "code",
   "execution_count": 17,
   "id": "487ab80f",
   "metadata": {},
   "outputs": [],
   "source": [
    "q=\"insert into stud values(?,?)\""
   ]
  },
  {
   "cell_type": "code",
   "execution_count": 18,
   "id": "764c8523",
   "metadata": {},
   "outputs": [
    {
     "data": {
      "text/plain": [
       "<sqlite3.Cursor at 0x1b075d07bc0>"
      ]
     },
     "execution_count": 18,
     "metadata": {},
     "output_type": "execute_result"
    }
   ],
   "source": [
    "cur.executemany(q,l)"
   ]
  },
  {
   "cell_type": "code",
   "execution_count": 19,
   "id": "5d6caacb",
   "metadata": {},
   "outputs": [],
   "source": [
    "q=\"insert into stud_details values(?,?,?)\""
   ]
  },
  {
   "cell_type": "code",
   "execution_count": 20,
   "id": "d326511a",
   "metadata": {},
   "outputs": [
    {
     "data": {
      "text/plain": [
       "<sqlite3.Cursor at 0x1b075d07bc0>"
      ]
     },
     "execution_count": 20,
     "metadata": {},
     "output_type": "execute_result"
    }
   ],
   "source": [
    "cur.executemany(q,a)"
   ]
  },
  {
   "cell_type": "code",
   "execution_count": 21,
   "id": "178ed811",
   "metadata": {},
   "outputs": [],
   "source": [
    "con.commit()"
   ]
  },
  {
   "cell_type": "code",
   "execution_count": 22,
   "id": "2734a8b3",
   "metadata": {},
   "outputs": [],
   "source": [
    "q='''SELECT stud.name, stud_details.city\n",
    "            FROM stud\n",
    "            INNER JOIN stud_details ON stud.id = stud_details.id\n",
    "            WHERE stud_details.city = 'surat' '''"
   ]
  },
  {
   "cell_type": "code",
   "execution_count": 23,
   "id": "7081f6c0",
   "metadata": {},
   "outputs": [
    {
     "data": {
      "text/plain": [
       "<sqlite3.Cursor at 0x1b075d07bc0>"
      ]
     },
     "execution_count": 23,
     "metadata": {},
     "output_type": "execute_result"
    }
   ],
   "source": [
    "cur.execute(q)"
   ]
  },
  {
   "cell_type": "code",
   "execution_count": 24,
   "id": "3a9c607b",
   "metadata": {},
   "outputs": [],
   "source": [
    "r=cur.fetchall()"
   ]
  },
  {
   "cell_type": "code",
   "execution_count": 25,
   "id": "4000b19b",
   "metadata": {},
   "outputs": [
    {
     "name": "stdout",
     "output_type": "stream",
     "text": [
      "student name:om\n",
      "student city:surat\n"
     ]
    }
   ],
   "source": [
    "for i in r:\n",
    "    print(\"student name:{}\".format(i[0]))\n",
    "    print(\"student city:{}\".format(i[1]))"
   ]
  },
  {
   "cell_type": "code",
   "execution_count": 26,
   "id": "cb45c09a",
   "metadata": {},
   "outputs": [],
   "source": [
    "q='''SELECT stud.name, stud_details.city\n",
    "            FROM stud\n",
    "            INNER JOIN stud_details ON stud.id = stud_details.id\n",
    "            WHERE stud_details.city LIKE 'B%' '''"
   ]
  },
  {
   "cell_type": "code",
   "execution_count": 27,
   "id": "7853199f",
   "metadata": {},
   "outputs": [
    {
     "data": {
      "text/plain": [
       "<sqlite3.Cursor at 0x1b075d07bc0>"
      ]
     },
     "execution_count": 27,
     "metadata": {},
     "output_type": "execute_result"
    }
   ],
   "source": [
    "cur.execute(q)"
   ]
  },
  {
   "cell_type": "code",
   "execution_count": 28,
   "id": "67f98ace",
   "metadata": {},
   "outputs": [],
   "source": [
    "r=cur.fetchall()"
   ]
  },
  {
   "cell_type": "code",
   "execution_count": 29,
   "id": "ef84e279",
   "metadata": {},
   "outputs": [
    {
     "name": "stdout",
     "output_type": "stream",
     "text": [
      "student name:sai\n",
      "student city:bardoli\n",
      "student name:sunil\n",
      "student city:bharuch\n",
      "student name:ajay\n",
      "student city:bhuj\n",
      "student name:vijay\n",
      "student city:bardoli\n"
     ]
    }
   ],
   "source": [
    "for i in r:\n",
    "    print(\"student name:{}\".format(i[0]))\n",
    "    print(\"student city:{}\".format(i[1]))"
   ]
  },
  {
   "cell_type": "code",
   "execution_count": 30,
   "id": "fcff7408",
   "metadata": {},
   "outputs": [],
   "source": [
    "q='''UPDATE stud_details\n",
    "            SET mobileno = '9685452325'\n",
    "            WHERE city = 'surat' '''"
   ]
  },
  {
   "cell_type": "code",
   "execution_count": 31,
   "id": "cce6dfac",
   "metadata": {},
   "outputs": [
    {
     "data": {
      "text/plain": [
       "<sqlite3.Cursor at 0x1b075d07bc0>"
      ]
     },
     "execution_count": 31,
     "metadata": {},
     "output_type": "execute_result"
    }
   ],
   "source": [
    "cur.execute(q)"
   ]
  },
  {
   "cell_type": "code",
   "execution_count": 32,
   "id": "8eaeaf01",
   "metadata": {},
   "outputs": [],
   "source": [
    "con.commit()"
   ]
  },
  {
   "cell_type": "code",
   "execution_count": 33,
   "id": "21c3d250",
   "metadata": {},
   "outputs": [],
   "source": [
    "cur.close()"
   ]
  },
  {
   "cell_type": "code",
   "execution_count": null,
   "id": "35843c65",
   "metadata": {},
   "outputs": [],
   "source": []
  }
 ],
 "metadata": {
  "kernelspec": {
   "display_name": "Python 3 (ipykernel)",
   "language": "python",
   "name": "python3"
  },
  "language_info": {
   "codemirror_mode": {
    "name": "ipython",
    "version": 3
   },
   "file_extension": ".py",
   "mimetype": "text/x-python",
   "name": "python",
   "nbconvert_exporter": "python",
   "pygments_lexer": "ipython3",
   "version": "3.10.10"
  }
 },
 "nbformat": 4,
 "nbformat_minor": 5
}
